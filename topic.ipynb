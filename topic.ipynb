{
 "cells": [
  {
   "cell_type": "code",
   "execution_count": 1,
   "metadata": {},
   "outputs": [],
   "source": [
    "from dependencies import *"
   ]
  },
  {
   "cell_type": "markdown",
   "metadata": {},
   "source": [
    "STEPS\n",
    "\n",
    "Removing links, emojies, punctuations, numbers and missing values, making them lowercase\n",
    "\n",
    "Language detection\n",
    "\n",
    "Tokenization\n",
    "\n",
    "Removal of Stop Words (finding libraries for all languages)\n",
    "\n",
    "Lemmatization\n",
    "\n",
    "----- Preprocessing is over\n",
    "\n",
    "LDA Topic Modeling"
   ]
  },
  {
   "cell_type": "code",
   "execution_count": 2,
   "metadata": {},
   "outputs": [],
   "source": [
    "df = pd.read_csv('-1001323856649.csv')\n",
    "df = df[\"translated\"].tolist()\n",
    "messages = df"
   ]
  },
  {
   "cell_type": "code",
   "execution_count": 3,
   "metadata": {},
   "outputs": [],
   "source": [
    "cleaned_list = []\n",
    "for x in messages:\n",
    "    x = re.split('https:\\/\\/.*', str(x))[0] # remove links\n",
    "    x = ' '.join(re.sub(\"[0-9.,!?:;\\-='\\\"@#_]\", \" \", emoji.demojize(x)).split()) # remove punctuation, numbers, and emojies\n",
    "    if x != 'nan': # check if x is not nan\n",
    "        cleaned_list.append(x.lower()) # lowercase and append to cleaned_list\n",
    "#cleaned_list = [x for x in cleaned_list if len(x) > 1] # remove single characters"
   ]
  },
  {
   "cell_type": "code",
   "execution_count": 25,
   "metadata": {},
   "outputs": [],
   "source": [
    "cleaned_list = [x for x in cleaned_list if x not in [None, 'none', '', 'nan']]\n"
   ]
  },
  {
   "cell_type": "code",
   "execution_count": 5,
   "metadata": {},
   "outputs": [],
   "source": [
    "# tokenize each string in the list\n",
    "tokenized_list = [word_tokenize(x) for x in cleaned_list]\n",
    "tokenized_list = [x for x in tokenized_list if len(x) > 1] # remove single characters"
   ]
  },
  {
   "cell_type": "code",
   "execution_count": 6,
   "metadata": {},
   "outputs": [],
   "source": [
    "# remove stop words\n",
    "stop_words = set(stopwords.words('english'))\n",
    "for i in range(len(tokenized_list)):\n",
    "    tokenized_list[i] = [x for x in tokenized_list[i] if x not in stop_words] # remove stopwords\n",
    "    tokenized_list[i] = [x for x in tokenized_list[i] if len(x) > 1] # remove single characters\n",
    "    tokenized_list[i] = [x for x in tokenized_list[i] if x.isalpha()] # remove non-alphabetic characters\n"
   ]
  },
  {
   "cell_type": "code",
   "execution_count": 7,
   "metadata": {},
   "outputs": [],
   "source": [
    "tokenized_list = [x for x in tokenized_list if len(x) > 1] # remove single characters   "
   ]
  },
  {
   "cell_type": "code",
   "execution_count": 8,
   "metadata": {},
   "outputs": [],
   "source": [
    "nlp = spacy.load(\"en_core_web_sm\")\n",
    "lemmatized_list = [[x for x in tokenized_list[i] if len(x) > 1] for i in range(len(tokenized_list))] # remove single characters"
   ]
  },
  {
   "cell_type": "code",
   "execution_count": null,
   "metadata": {},
   "outputs": [],
   "source": [
    "dictionary = corpora.Dictionary(lemmatized_list)\n",
    "doc_term_matrix = [dictionary.doc2bow(doc) for doc in lemmatized_list]\n",
    "\n",
    "# Create the LDA model\n",
    "lda_model = models.LdaModel(\n",
    "    corpus=doc_term_matrix,\n",
    "    id2word=dictionary,\n",
    "    num_topics=20,  # Define the number of topics you want to extract\n",
    "    passes= 20    # Number of iterations over the corpus\n",
    ")\n",
    "\n",
    "topics = lda_model.print_topics(num_words=40)\n",
    "\n",
    "for topic in topics:\n",
    "    words = topic[1].split(\" + \")\n",
    "    print(\"Topic {}: {}\".format(topic[0], \", \".join(word.split(\"*\")[1] for word in words)))\n",
    "\n",
    "\n",
    "file_name = \"50_100_100\"\n",
    "\n",
    "with open(f'{file_name}.pkl', 'wb') as f:\n",
    "    pickle.dump(lda_model, f)"
   ]
  },
  {
   "cell_type": "code",
   "execution_count": null,
   "metadata": {},
   "outputs": [],
   "source": [
    "# Specify the topic number you want to visualize\n",
    "topic_to_visualize = 19\n",
    "\n",
    "with open(f'50_100_100.pkl', 'rb') as f:\n",
    "    lda_model = pickle.load(f)\n",
    "\n",
    "# Iterate only once for the specified topic\n",
    "for i in range(topic_to_visualize - 1, topic_to_visualize):\n",
    "    words = lda_model.show_topic(i, 30)\n",
    "    word_dict = {}\n",
    "    for word, prob in words:\n",
    "        word_dict[word] = prob\n",
    "    wordcloud = WordCloud(width=800, height=400, random_state=21, max_font_size=110, background_color='white').generate_from_frequencies(word_dict)\n",
    "\n",
    "    plt.figure(figsize=(10, 5))\n",
    "    plt.imshow(wordcloud, interpolation=\"bilinear\")\n",
    "    plt.axis('off')\n",
    "\n",
    "\n",
    "    # Save the figure with a standardized filename\n",
    "    plt.savefig(f'figure_{i + 1}.png')\n",
    "\n",
    "    plt.show()\n",
    "\n"
   ]
  },
  {
   "cell_type": "code",
   "execution_count": null,
   "metadata": {},
   "outputs": [],
   "source": [
    "#If the weight of a word is high for a particular topic, it means that the model believes that the word is strongly associated with that topic\n",
    "with open('50_100_100.pkl', 'rb') as f:\n",
    "    lda_model = pickle.load(f)\n",
    "    \n",
    "lda_model.print_topics(num_words=20)\n",
    "\n",
    "\n",
    "#show without weights\n",
    "topics = lda_model.print_topics(num_words=20)\n",
    "for topic in topics:\n",
    "    words = topic[1].split(\" + \")\n",
    "    print(\"Topic {}: {}\".format(topic[0], \", \".join(word.split(\"*\")[1] for word in words)))\n",
    "\n"
   ]
  }
 ],
 "metadata": {
  "kernelspec": {
   "display_name": ".venv",
   "language": "python",
   "name": "python3"
  },
  "language_info": {
   "codemirror_mode": {
    "name": "ipython",
    "version": 3
   },
   "file_extension": ".py",
   "mimetype": "text/x-python",
   "name": "python",
   "nbconvert_exporter": "python",
   "pygments_lexer": "ipython3",
   "version": "3.10.11"
  }
 },
 "nbformat": 4,
 "nbformat_minor": 2
}
