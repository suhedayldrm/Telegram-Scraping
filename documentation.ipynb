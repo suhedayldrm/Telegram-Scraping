{
 "cells": [
  {
   "cell_type": "markdown",
   "metadata": {},
   "source": [
    "**Creating a session**"
   ]
  },
  {
   "cell_type": "code",
   "execution_count": null,
   "metadata": {},
   "outputs": [],
   "source": [
    "from dependencies import *\n",
    "api_id = 66768697\n",
    "api_hash = 'sldjhalkjflkfdkjalskjdf'\n",
    "phone = '+123445789'\n",
    "username = \"my_app\"\n",
    "app = Client(\"my_account\", api_id, api_hash)"
   ]
  },
  {
   "cell_type": "markdown",
   "metadata": {},
   "source": [
    "**Some Examples**"
   ]
  },
  {
   "cell_type": "code",
   "execution_count": null,
   "metadata": {},
   "outputs": [],
   "source": [
    "#getting chat id\n",
    "from pyrogram import Client\n",
    "import asyncio\n",
    "from dependencies import *\n",
    "\n",
    "app = Client(\"my_own\")\n",
    "async def main():\n",
    "    async with app:\n",
    "        messages = await app.get_messages(achatname, 3)\n",
    "        messages = [messages.chat.username for message in messages]\n",
    "        print(messages)\n",
    "nest_asyncio.apply()\n",
    "# Run the event loop\n",
    "asyncio.run(main())"
   ]
  },
  {
   "cell_type": "code",
   "execution_count": null,
   "metadata": {},
   "outputs": [],
   "source": [
    "#getting all messages\n",
    "\n",
    "async def main():\n",
    "    app = Client(\"my_account\")\n",
    "    Messages = []\n",
    "    async with app:\n",
    "        # \"me\" refers to your own chat (Saved Messages)\n",
    "        async for message in app.get_chat_history(\"achatname\"):\n",
    "            if message.text:\n",
    "                Messages.append(message.text)\n",
    "        return Messages\n",
    "\n",
    "\n",
    "messages = asyncio.run(main())"
   ]
  },
  {
   "cell_type": "code",
   "execution_count": null,
   "metadata": {},
   "outputs": [],
   "source": [
    "#getting forwarded messages chat ids\n",
    "\n",
    "async def main():\n",
    "    app = Client(\"my_account\")\n",
    "    chat_ids = []\n",
    "    async with app:\n",
    "        # \"me\" refers to your own chat (Saved Messages)\n",
    "        async for message in app.get_chat_history(\"achatname\"):\n",
    "            if message.forward_from_chat != None and message.forward_from_chat.id not in chat_ids:\n",
    "                chat_ids.append(message.forward_from_chat.id)\n",
    "        return chat_ids\n",
    "\n",
    "\n",
    "asyncio.run(main())"
   ]
  },
  {
   "cell_type": "code",
   "execution_count": null,
   "metadata": {},
   "outputs": [],
   "source": [
    "#chat's title, type\n",
    "from dependencies import *\n",
    "async def chat():\n",
    "    app = Client(\"my_account\")\n",
    "    async with app:\n",
    "        chat = await app.get_chat(-892738923749)\n",
    "        print(chat.title)\n",
    "        print(chat.type)\n",
    "        print(chat.username)\n",
    "        \n",
    "nest_asyncio.apply()\n",
    "asyncio.run(chat())"
   ]
  }
 ],
 "metadata": {
  "kernelspec": {
   "display_name": ".venv",
   "language": "python",
   "name": "python3"
  },
  "language_info": {
   "name": "python",
   "version": "3.10.11"
  }
 },
 "nbformat": 4,
 "nbformat_minor": 2
}
