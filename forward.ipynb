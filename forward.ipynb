{
 "cells": [
  {
   "cell_type": "code",
   "execution_count": 1,
   "metadata": {},
   "outputs": [],
   "source": [
    "from dependencies import *\n",
    "\n",
    "chats = pd.read_csv('chat_info.csv')\n",
    "ids = chats['ch_id'].tolist()\n",
    "chat_usernames = chats['ch_username'].tolist()\n",
    "sessions = [\"b_account\", \"p_account\", \"my_account\", \"my_own\", \"ort_account\"]\n",
    "\n",
    "forward = pd.read_csv(\"forward.csv\")\n",
    "checked_chats = pd.read_csv('checked.csv')\n",
    "checked_chats_list = checked_chats['ch_id'].tolist()\n",
    "#chat_info : 0:98,--- 98:407\n",
    "#4273, 6092, ---\n",
    "#forward_checked "
   ]
  },
  {
   "cell_type": "code",
   "execution_count": 2,
   "metadata": {},
   "outputs": [],
   "source": [
    "async def forwarding(username, session):\n",
    "    app = Client(session)\n",
    "    forward_ids = []\n",
    "    async with app:\n",
    "        try:\n",
    "            async for message in app.search_messages(username):\n",
    "                if message.forward_from_chat != None:\n",
    "                    forward_ids.append(message.forward_from_chat.id)\n",
    "                else:\n",
    "                    continue\n",
    "            return list(set(forward_ids))\n",
    "        except Exception as e:\n",
    "            print(f\"Error getting chat dates: {e}\")\n",
    "            return None"
   ]
  },
  {
   "cell_type": "code",
   "execution_count": null,
   "metadata": {},
   "outputs": [],
   "source": [
    "for chat_id in ids[207:]:\n",
    "    nest_asyncio.apply()\n",
    "    uvloop.install()\n",
    "    index = ids.index(chat_id)\n",
    "    print(index)\n",
    "    forward_ids = asyncio.run(forwarding(chat_id, \"my_account\"))\n",
    "    print(forward_ids)\n",
    "    if forward_ids != None:\n",
    "        forward_ids = list(set(forward_ids))\n",
    "        forward_ids = [id for id in forward_ids if id not in checked_chats_list]\n",
    "        #put them in forward.csv with the column name [\"ch_id\"]\n",
    "        forward_df = {\"ch_id\": forward_ids}\n",
    "        forward_df = pd.DataFrame(forward_df)\n",
    "        forward_df.to_csv(\"forward.csv\", index= False, mode =\"a\", header=False)\n",
    "    else:\n",
    "        continue\n"
   ]
  },
  {
   "cell_type": "code",
   "execution_count": 5,
   "metadata": {},
   "outputs": [],
   "source": [
    "forward = pd.read_csv(\"forward.csv\")\n",
    "forward = forward.drop_duplicates()\n",
    "forward.to_csv(\"forward.csv\", index= False)"
   ]
  }
 ],
 "metadata": {
  "kernelspec": {
   "display_name": ".venv",
   "language": "python",
   "name": "python3"
  },
  "language_info": {
   "codemirror_mode": {
    "name": "ipython",
    "version": 3
   },
   "file_extension": ".py",
   "mimetype": "text/x-python",
   "name": "python",
   "nbconvert_exporter": "python",
   "pygments_lexer": "ipython3",
   "version": "3.10.11"
  }
 },
 "nbformat": 4,
 "nbformat_minor": 2
}
