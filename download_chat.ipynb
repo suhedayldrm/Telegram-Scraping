{
 "cells": [
  {
   "cell_type": "code",
   "execution_count": 1,
   "metadata": {},
   "outputs": [],
   "source": [
    "from dependencies import *\n",
    "\n",
    "chats = pd.read_csv('chat_info.csv')\n",
    "checked_chats = pd.read_csv('checked.csv')\n",
    "errored = []\n",
    "found = []\n",
    "sessions = [\"my_account\"]\n",
    "\n",
    "#forward:4273, 6092, 11995"
   ]
  },
  {
   "cell_type": "code",
   "execution_count": 3,
   "metadata": {},
   "outputs": [],
   "source": [
    "async def chat_info(username, session):\n",
    "    app = Client(session)\n",
    "    async with Client(session) as app:\n",
    "        try:\n",
    "            chat_info = await app.get_chat(username)\n",
    "            member_count = chat_info.members_count\n",
    "            message_count= await app.get_chat_history_count(username)\n",
    "            chat = {\n",
    "                'ch_id': chat_info.id,\n",
    "                'ch_username': chat_info.username,\n",
    "                'ch_title': chat_info.title,\n",
    "                'ch_type': chat_info.type,\n",
    "                \"mem_count\": member_count,\n",
    "                \"mes_count\": message_count}\n",
    "\n",
    "            print(f\"chat_info: info for {username} collected\")\n",
    "            return chat\n",
    "        \n",
    "        except Exception as e:\n",
    "            print(f\"chat_info: {e}: {username}\")\n",
    "            return None"
   ]
  },
  {
   "cell_type": "code",
   "execution_count": 4,
   "metadata": {},
   "outputs": [],
   "source": [
    "async def first_time(username, session):\n",
    "\n",
    "    async with Client(session) as app:\n",
    "        try:\n",
    "            async for message in app.get_chat_history(username, offset_id=5):\n",
    "                if message.date is not None:\n",
    "                    first_time = message.date.strftime(\"%Y.%m.%d\")\n",
    "            \n",
    "            if first_time is None:\n",
    "                print(f\"first_time: first date is not found {username}\")\n",
    "                return None\n",
    "            \n",
    "            first_time = {\"first_time\": first_time}\n",
    "            print(f\"first_time: first date for {username} collected\")\n",
    "            return first_time\n",
    "        except Exception as e:\n",
    "            print(f\"first_time: {e}: {username}\")\n",
    "            return None"
   ]
  },
  {
   "cell_type": "code",
   "execution_count": 5,
   "metadata": {},
   "outputs": [],
   "source": [
    "async def messages(id, session):\n",
    "    messages = []\n",
    "    async with Client(session) as app:\n",
    "        try:\n",
    "            async for message in app.search_messages(id, limit=50):\n",
    "                if message.text is not None:\n",
    "                    messages.append(message.text)\n",
    "            return messages\n",
    "    \n",
    "        except Exception as e:\n",
    "            print(f\"messages: {e}: {id}\")\n",
    "            return None"
   ]
  },
  {
   "cell_type": "code",
   "execution_count": 6,
   "metadata": {},
   "outputs": [],
   "source": [
    "def detect_lang(messages):\n",
    "    lang_list = []\n",
    "    for string in messages:\n",
    "        try:\n",
    "            lang_list.append(detect(string))\n",
    "        except Exception as e:\n",
    "            print(f\"detect_lang : Error detecting language: {e}\")\n",
    "            return None\n",
    "        \n",
    "    if not lang_list:\n",
    "        # No language detected for any message\n",
    "        return None\n",
    "\n",
    "    lang_dict = {}\n",
    "    for lang in lang_list:\n",
    "        lang_dict[lang] = lang_dict.get(lang, 0) + 1\n",
    "        \n",
    "    dominant_lang = max(lang_dict, key=lang_dict.get)\n",
    "    return dominant_lang"
   ]
  },
  {
   "cell_type": "code",
   "execution_count": 7,
   "metadata": {},
   "outputs": [],
   "source": [
    "from dependencies import *\n",
    "\n",
    "async def combined(username):\n",
    "\n",
    "    chat_info_result = None\n",
    "    first_time_result = None\n",
    "    messages_result = None\n",
    "    \n",
    "    #tryng sessions one by one until one of them works. If none of them works, return none\n",
    "    \n",
    "    for session in sessions:\n",
    "        chat_info_result = await chat_info(username, session)\n",
    "        \n",
    "        if chat_info_result is not None:\n",
    "            break\n",
    "\n",
    "    for session in sessions:\n",
    "        first_time_result = await first_time(username, session)\n",
    "        if first_time_result is not None:\n",
    "            break\n",
    "        \n",
    "    for session in sessions:\n",
    "        messages_result = await messages(username,session)\n",
    "        if messages_result is not None:\n",
    "            break\n",
    "    \n",
    "    #if one of them is none, return none\n",
    "    if chat_info_result is None or first_time_result is None or messages_result is None:\n",
    "        return None\n",
    "\n",
    "    lang = detect_lang(messages_result)\n",
    "    chat_info_result.update(first_time_result)\n",
    "    chat_info_result.update({\"lang\": lang})\n",
    "    \n",
    "    return chat_info_result"
   ]
  },
  {
   "cell_type": "code",
   "execution_count": 8,
   "metadata": {},
   "outputs": [],
   "source": [
    "async def conditions(username):\n",
    "    \n",
    "    chat = await combined(username)\n",
    "    if chat is {} or chat is None:\n",
    "        print(\"conditions: chat is empty\")\n",
    "        return None\n",
    "    username = chat['ch_username']\n",
    "    cr_time = datetime.strptime(chat['first_time'], '%Y.%m.%d')\n",
    "    threshold = datetime.strptime('2017.12.30', '%Y.%m.%d')\n",
    "    lang_list = ['ru', 'de', 'en', 'fr', 'ar']\n",
    "\n",
    "    if cr_time > threshold:\n",
    "        print(f\"conditions: cr_time is later than threshold {username}\")\n",
    "        return None\n",
    "    if chat[\"lang\"] not in lang_list:\n",
    "        print(f\"conditions: lang is not in lang_list {username}\")\n",
    "        return None\n",
    "    \n",
    "    print(f\"conditions: conditions are met {username}\")\n",
    "    return chat\n"
   ]
  },
  {
   "cell_type": "code",
   "execution_count": 9,
   "metadata": {},
   "outputs": [],
   "source": [
    "async def checking(ch_ids):\n",
    "    global checked_chats\n",
    "    global chats\n",
    "    \n",
    "    for ch_id in ch_ids:\n",
    "        index = ch_ids.index(ch_id)\n",
    "        print(f\"its index is {index}\")\n",
    "        if ch_id in checked_chats['ch_id'].tolist() or ch_id in chats['ch_id'].tolist():\n",
    "            print(f\"chat{ch_id} is already checked\")\n",
    "            continue\n",
    "        chat_checked = await conditions(ch_id)\n",
    "        if chat_checked is None:\n",
    "            errored.append(ch_id)\n",
    "            chat_checked = pd.DataFrame([ch_id], columns=['ch_id'])\n",
    "            chat_checked.to_csv('checked.csv', mode='a', header=False, index=False)\n",
    "            continue\n",
    "        \n",
    "        else:\n",
    "            print(f\"chat{ch_id} meets the conditions\")\n",
    "            chat_checked = pd.DataFrame(chat_checked, index=[index])\n",
    "            chat_checked.to_csv('chat_info.csv', index=False, mode='a', header=False)\n",
    "            found.append(ch_id)\n",
    "    \n",
    "\n",
    "    return found, errored"
   ]
  },
  {
   "cell_type": "code",
   "execution_count": 10,
   "metadata": {},
   "outputs": [],
   "source": [
    "import pandas as pd\n",
    "forward = pd.read_csv('forward.csv')\n",
    "forward = forward['ch_id'].tolist()"
   ]
  },
  {
   "cell_type": "code",
   "execution_count": null,
   "metadata": {},
   "outputs": [],
   "source": [
    "nest_asyncio.apply()\n",
    "results = asyncio.run(checking(forward[11455:]))"
   ]
  },
  {
   "cell_type": "code",
   "execution_count": 84,
   "metadata": {},
   "outputs": [],
   "source": [
    "#drop duplicates\n",
    "chats = pd.read_csv('chat_info.csv')\n",
    "chats = chats.drop_duplicates(subset=['ch_id'])\n",
    "chats.to_csv('chat_info.csv', index=False)\n",
    "\n",
    "checked_chats = pd.read_csv('checked.csv')\n",
    "checked_chats = checked_chats.drop_duplicates(subset=['ch_id'])\n",
    "checked_chats.to_csv('checked.csv', index=False)"
   ]
  }
 ],
 "metadata": {
  "kernelspec": {
   "display_name": ".venv",
   "language": "python",
   "name": "python3"
  },
  "language_info": {
   "codemirror_mode": {
    "name": "ipython",
    "version": 3
   },
   "file_extension": ".py",
   "mimetype": "text/x-python",
   "name": "python",
   "nbconvert_exporter": "python",
   "pygments_lexer": "ipython3",
   "version": "3.10.11"
  }
 },
 "nbformat": 4,
 "nbformat_minor": 2
}
