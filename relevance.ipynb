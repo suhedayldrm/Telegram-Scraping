{
 "cells": [
  {
   "cell_type": "code",
   "execution_count": 1,
   "metadata": {},
   "outputs": [],
   "source": [
    "#append system dir folder\n",
    "import sys\n",
    "from dependencies import *\n",
    "keyword_list = [\"apple\", \"banana\", \"cherry\", \"date\", \"elderberry\", \"fig\", \"grape\", \"honeydew\", \"kiwi\", \"lemon\", \"mango\", \"nectarine\", \"orange\", \"papaya\", \"quince\", \"raspberry\", \"strawberry\", \"tangerine\", \"watermelon\"]\n"
   ]
  },
  {
   "cell_type": "code",
   "execution_count": 2,
   "metadata": {},
   "outputs": [],
   "source": [
    "async def messages(chat_id, session):\n",
    "    app = Client(session)\n",
    "    messages_info = []\n",
    "    try:\n",
    "        async with app:\n",
    "            #how to get odd number of messages\n",
    "            async for message in app.search_messages(chat_id, limit=50000):\n",
    "                if message.text:\n",
    "                    messages_info.append(message.text.lower())\n",
    "            print(f\"messages: {chat_id} done\")\n",
    "            return messages_info\n",
    "    except Exception as e:\n",
    "        print(f\"messages: Error in {chat_id}: {e}\")\n",
    "        return None\n",
    "                "
   ]
  },
  {
   "cell_type": "code",
   "execution_count": 3,
   "metadata": {},
   "outputs": [],
   "source": [
    "async def relevance_score(chat_id, keyword_list, threshold=0.1):\n",
    "    tasks = [messages(chat_id, session) for session in sessions]\n",
    "    messages_info_list = await asyncio.gather(*tasks)\n",
    "    #if every sublist is none, return None\n",
    "    if all([item is None for item in messages_info_list]):\n",
    "        return None\n",
    "    #flatten the list, exclude None lists\n",
    "    messages_info = [item for sublist in messages_info_list if sublist is not None for item in sublist]\n",
    "    messages_info = list(set(messages_info))\n",
    "    \n",
    "    message_count = len(messages_info)\n",
    "    found_keywords = set()\n",
    "    found = 0\n",
    "    \n",
    "    for message in messages_info:\n",
    "        found_keywords.update([keyword for keyword in keyword_list if message.lower().count(keyword) > 0])\n",
    "        found += sum([message.lower().count(keyword) for keyword in keyword_list])\n",
    "        \n",
    "    keywords_count = len(found_keywords)\n",
    "    message_count = len(messages_info)\n",
    "    \n",
    "    relevance_score = (found / message_count) * (1 + 0.5 * (keywords_count / len(keyword_list)))\n",
    "    raw_score = keywords_count / len(keyword_list)\n",
    "\n",
    "    if raw_score <= threshold:\n",
    "        print(\"Not that much Relevant\")\n",
    "        relevance_score -= 1\n",
    "    else:\n",
    "        print(\"Highly Relevant\")\n",
    "        \n",
    "    result ={\"ch_id\": chat_id,\"relevance_score\": relevance_score, \"raw_score\": raw_score,\"keywords_count\": keywords_count, \"found_keywords\": list(found_keywords)}\n",
    "    #ch_id,relevance_score,raw_score,keywords_count,found_keywords\n",
    "    return result"
   ]
  },
  {
   "cell_type": "code",
   "execution_count": null,
   "metadata": {},
   "outputs": [],
   "source": [
    "relevant_chats = pd.read_csv('relevant.csv')\n",
    "chats = pd.read_csv('chat_info.csv')\n",
    "chat_ids = chats['ch_id'].tolist()\n",
    "sessions = [ \"my_account\", \"p_account\"]\n",
    "\n",
    "for chat_id in chat_ids[1317:]:\n",
    "    result = await relevance_score(chat_id, keyword_list)\n",
    "    if result == None:\n",
    "        continue\n",
    "    \n",
    "    result_df = pd.DataFrame([result])\n",
    "    result_df.to_csv('relevant.csv', mode='a', header=False, index=False)"
   ]
  },
  {
   "cell_type": "code",
   "execution_count": 16,
   "metadata": {},
   "outputs": [],
   "source": [
    "#drop duplicates\n",
    "relevant_chats = pd.read_csv('relevant.csv')\n",
    "relevant_chats = relevant_chats.drop_duplicates()\n",
    "relevant_chats.to_csv('relevant.csv', index=False)"
   ]
  }
 ],
 "metadata": {
  "kernelspec": {
   "display_name": ".venv",
   "language": "python",
   "name": "python3"
  },
  "language_info": {
   "codemirror_mode": {
    "name": "ipython",
    "version": 3
   },
   "file_extension": ".py",
   "mimetype": "text/x-python",
   "name": "python",
   "nbconvert_exporter": "python",
   "pygments_lexer": "ipython3",
   "version": "3.10.11"
  }
 },
 "nbformat": 4,
 "nbformat_minor": 2
}
