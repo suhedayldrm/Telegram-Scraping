{
 "cells": [
  {
   "cell_type": "code",
   "execution_count": 23,
   "metadata": {},
   "outputs": [],
   "source": [
    "from dependencies import *\n",
    "ids = []"
   ]
  },
  {
   "cell_type": "code",
   "execution_count": 24,
   "metadata": {},
   "outputs": [],
   "source": [
    "from datetime import datetime\n",
    "\n",
    "async def achat(chat_id):\n",
    "    app = Client(\"my_account\")\n",
    "    messages = []\n",
    "    async with app:\n",
    "        async for message in app.search_messages(chat_id):\n",
    "            threshold = datetime.strptime('2017.12.30', '%Y.%m.%d')\n",
    "            if message.date and message.text is not None:\n",
    "                message_date = message.date\n",
    "                if message_date < threshold:\n",
    "                #date, message_text, chat_id\n",
    "                    message = {\"date\" : message_date.strftime(\"%Y.%m.%d\"),\n",
    "                                \"message_text\" : message.text}\n",
    "                    messages.append(message)\n",
    "    return messages\n",
    "    "
   ]
  },
  {
   "cell_type": "code",
   "execution_count": null,
   "metadata": {},
   "outputs": [],
   "source": [
    "from dependencies import *\n",
    "from pyrogram import Client\n",
    "import asyncio\n",
    "asyncio.run(achat(\"achat\"))"
   ]
  },
  {
   "cell_type": "code",
   "execution_count": null,
   "metadata": {},
   "outputs": [],
   "source": [
    "#save every chat's messages as a seperate csv file\n",
    "from dependencies import *\n",
    "\n",
    "for chat_id in ids:\n",
    "    nest_asyncio.apply()\n",
    "    messages = asyncio.run(achat(chat_id))\n",
    "    #index printing\n",
    "    print(ids.index(chat_id), chat_id)\n",
    "    if messages is not None:\n",
    "        df = pd.DataFrame(messages)\n",
    "        df.to_csv(f\"chats/{chat_id}.csv\", index = False)\n",
    "    else:\n",
    "        print(f\"messages: messages are empty for {chat_id}\")"
   ]
  }
 ],
 "metadata": {
  "kernelspec": {
   "display_name": ".venv",
   "language": "python",
   "name": "python3"
  },
  "language_info": {
   "codemirror_mode": {
    "name": "ipython",
    "version": 3
   },
   "file_extension": ".py",
   "mimetype": "text/x-python",
   "name": "python",
   "nbconvert_exporter": "python",
   "pygments_lexer": "ipython3",
   "version": "3.10.11"
  }
 },
 "nbformat": 4,
 "nbformat_minor": 2
}
